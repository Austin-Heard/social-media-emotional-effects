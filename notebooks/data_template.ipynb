{
 "cells": [
  {
   "cell_type": "markdown",
   "metadata": {},
   "source": [
    "# Data Analysis Template"
   ]
  },
  {
   "cell_type": "markdown",
   "metadata": {},
   "source": [
    "## Import libraries"
   ]
  },
  {
   "cell_type": "code",
   "execution_count": 147,
   "metadata": {},
   "outputs": [],
   "source": [
    "import pandas as pd\n",
    "import numpy as np\n",
    "import os\n",
    "import matplotlib.pyplot as plt\n",
    "import seaborn as sns\n",
    "from scipy.stats import ttest_ind, pearsonr, spearmanr, f_oneway, levene"
   ]
  },
  {
   "cell_type": "markdown",
   "metadata": {},
   "source": [
    "1. Find and Load Data\n",
    "2. Initial Exploration\n",
    "3. Initial Questions\n",
    "4. Clean Data / Transform Data\n",
    "5. Context\n",
    "6. Hypothesis Test\n",
    "7. Regression"
   ]
  },
  {
   "cell_type": "markdown",
   "metadata": {},
   "source": [
    "## Load Data"
   ]
  },
  {
   "cell_type": "markdown",
   "metadata": {},
   "source": [
    "* What kind of data do you have?\n",
    "  * Do you have enough data to do basic tests?\n",
    "  * Is your data reliable / trustworthy?\n",
    "    * Where did the data come from?\n",
    "  * Is your data representative of what you're analyzing?\n",
    "    * (e.g. the average height of the professional athletes may not be\n",
    "      representative of the average height of the general population)\n",
    "* What format is your data in?\n",
    "  * Common types that can be read by Pandas\n",
    "    * CSV\n",
    "    * Excel\n",
    "    * Json\n",
    "      * Will require more effort defining loading parameters\n",
    "  * SQL data can be loaded into a DataFrame after you connect to the database\n",
    "    with another library (e.g. psycopg2, sqlalchemy)"
   ]
  },
  {
   "cell_type": "markdown",
   "metadata": {},
   "source": [
    "Testing getting file path before file using os"
   ]
  },
  {
   "cell_type": "code",
   "execution_count": 88,
   "metadata": {},
   "outputs": [
    {
     "data": {
      "text/plain": [
       "'../users/amheard0311/data'"
      ]
     },
     "execution_count": 88,
     "metadata": {},
     "output_type": "execute_result"
    }
   ],
   "source": [
    "database = '../users/amheard0311/data/train.csv'\n",
    "parent = os.path.dirname(database)\n",
    "parent"
   ]
  },
  {
   "cell_type": "markdown",
   "metadata": {},
   "source": [
    "Import data set"
   ]
  },
  {
   "cell_type": "code",
   "execution_count": 89,
   "metadata": {},
   "outputs": [
    {
     "data": {
      "text/html": [
       "<div>\n",
       "<style scoped>\n",
       "    .dataframe tbody tr th:only-of-type {\n",
       "        vertical-align: middle;\n",
       "    }\n",
       "\n",
       "    .dataframe tbody tr th {\n",
       "        vertical-align: top;\n",
       "    }\n",
       "\n",
       "    .dataframe thead th {\n",
       "        text-align: right;\n",
       "    }\n",
       "</style>\n",
       "<table border=\"1\" class=\"dataframe\">\n",
       "  <thead>\n",
       "    <tr style=\"text-align: right;\">\n",
       "      <th></th>\n",
       "      <th>0</th>\n",
       "      <th>1</th>\n",
       "      <th>2</th>\n",
       "      <th>3</th>\n",
       "      <th>4</th>\n",
       "      <th>5</th>\n",
       "      <th>6</th>\n",
       "      <th>7</th>\n",
       "      <th>8</th>\n",
       "      <th>9</th>\n",
       "      <th>...</th>\n",
       "      <th>991</th>\n",
       "      <th>992</th>\n",
       "      <th>993</th>\n",
       "      <th>994</th>\n",
       "      <th>995</th>\n",
       "      <th>996</th>\n",
       "      <th>997</th>\n",
       "      <th>998</th>\n",
       "      <th>999</th>\n",
       "      <th>1000</th>\n",
       "    </tr>\n",
       "  </thead>\n",
       "  <tbody>\n",
       "    <tr>\n",
       "      <th>User_ID</th>\n",
       "      <td>1</td>\n",
       "      <td>2</td>\n",
       "      <td>3</td>\n",
       "      <td>4</td>\n",
       "      <td>5</td>\n",
       "      <td>6</td>\n",
       "      <td>7</td>\n",
       "      <td>8</td>\n",
       "      <td>9</td>\n",
       "      <td>10</td>\n",
       "      <td>...</td>\n",
       "      <td>991</td>\n",
       "      <td>992</td>\n",
       "      <td>993</td>\n",
       "      <td>994</td>\n",
       "      <td>995</td>\n",
       "      <td>996</td>\n",
       "      <td>997</td>\n",
       "      <td>998</td>\n",
       "      <td>999</td>\n",
       "      <td>1000</td>\n",
       "    </tr>\n",
       "    <tr>\n",
       "      <th>Age</th>\n",
       "      <td>25</td>\n",
       "      <td>30</td>\n",
       "      <td>22</td>\n",
       "      <td>28</td>\n",
       "      <td>33</td>\n",
       "      <td>21</td>\n",
       "      <td>27</td>\n",
       "      <td>24</td>\n",
       "      <td>29</td>\n",
       "      <td>31</td>\n",
       "      <td>...</td>\n",
       "      <td>27</td>\n",
       "      <td>32</td>\n",
       "      <td>24</td>\n",
       "      <td>29</td>\n",
       "      <td>26</td>\n",
       "      <td>33</td>\n",
       "      <td>22</td>\n",
       "      <td>35</td>\n",
       "      <td>28</td>\n",
       "      <td>27</td>\n",
       "    </tr>\n",
       "    <tr>\n",
       "      <th>Gender</th>\n",
       "      <td>Female</td>\n",
       "      <td>Male</td>\n",
       "      <td>Non-binary</td>\n",
       "      <td>Female</td>\n",
       "      <td>Male</td>\n",
       "      <td>Male</td>\n",
       "      <td>Female</td>\n",
       "      <td>Non-binary</td>\n",
       "      <td>Female</td>\n",
       "      <td>Male</td>\n",
       "      <td>...</td>\n",
       "      <td>Non-binary</td>\n",
       "      <td>Female</td>\n",
       "      <td>Male</td>\n",
       "      <td>Female</td>\n",
       "      <td>Male</td>\n",
       "      <td>Non-binary</td>\n",
       "      <td>Female</td>\n",
       "      <td>Male</td>\n",
       "      <td>Non-binary</td>\n",
       "      <td>Female</td>\n",
       "    </tr>\n",
       "    <tr>\n",
       "      <th>Platform</th>\n",
       "      <td>Instagram</td>\n",
       "      <td>Twitter</td>\n",
       "      <td>Facebook</td>\n",
       "      <td>Instagram</td>\n",
       "      <td>LinkedIn</td>\n",
       "      <td>Instagram</td>\n",
       "      <td>Twitter</td>\n",
       "      <td>Facebook</td>\n",
       "      <td>LinkedIn</td>\n",
       "      <td>Instagram</td>\n",
       "      <td>...</td>\n",
       "      <td>Facebook</td>\n",
       "      <td>Whatsapp</td>\n",
       "      <td>Telegram</td>\n",
       "      <td>Snapchat</td>\n",
       "      <td>Instagram</td>\n",
       "      <td>Twitter</td>\n",
       "      <td>Facebook</td>\n",
       "      <td>Whatsapp</td>\n",
       "      <td>Telegram</td>\n",
       "      <td>Snapchat</td>\n",
       "    </tr>\n",
       "    <tr>\n",
       "      <th>Daily_Usage_Time (minutes)</th>\n",
       "      <td>120.0</td>\n",
       "      <td>90.0</td>\n",
       "      <td>60.0</td>\n",
       "      <td>200.0</td>\n",
       "      <td>45.0</td>\n",
       "      <td>150.0</td>\n",
       "      <td>85.0</td>\n",
       "      <td>110.0</td>\n",
       "      <td>55.0</td>\n",
       "      <td>170.0</td>\n",
       "      <td>...</td>\n",
       "      <td>50.0</td>\n",
       "      <td>105.0</td>\n",
       "      <td>75.0</td>\n",
       "      <td>95.0</td>\n",
       "      <td>150.0</td>\n",
       "      <td>85.0</td>\n",
       "      <td>70.0</td>\n",
       "      <td>110.0</td>\n",
       "      <td>60.0</td>\n",
       "      <td>120.0</td>\n",
       "    </tr>\n",
       "    <tr>\n",
       "      <th>Posts_Per_Day</th>\n",
       "      <td>3.0</td>\n",
       "      <td>5.0</td>\n",
       "      <td>2.0</td>\n",
       "      <td>8.0</td>\n",
       "      <td>1.0</td>\n",
       "      <td>4.0</td>\n",
       "      <td>3.0</td>\n",
       "      <td>6.0</td>\n",
       "      <td>2.0</td>\n",
       "      <td>5.0</td>\n",
       "      <td>...</td>\n",
       "      <td>1.0</td>\n",
       "      <td>4.0</td>\n",
       "      <td>3.0</td>\n",
       "      <td>2.0</td>\n",
       "      <td>5.0</td>\n",
       "      <td>4.0</td>\n",
       "      <td>1.0</td>\n",
       "      <td>3.0</td>\n",
       "      <td>2.0</td>\n",
       "      <td>4.0</td>\n",
       "    </tr>\n",
       "    <tr>\n",
       "      <th>Likes_Received_Per_Day</th>\n",
       "      <td>45.0</td>\n",
       "      <td>20.0</td>\n",
       "      <td>15.0</td>\n",
       "      <td>100.0</td>\n",
       "      <td>5.0</td>\n",
       "      <td>60.0</td>\n",
       "      <td>30.0</td>\n",
       "      <td>25.0</td>\n",
       "      <td>10.0</td>\n",
       "      <td>80.0</td>\n",
       "      <td>...</td>\n",
       "      <td>10.0</td>\n",
       "      <td>55.0</td>\n",
       "      <td>37.0</td>\n",
       "      <td>23.0</td>\n",
       "      <td>70.0</td>\n",
       "      <td>35.0</td>\n",
       "      <td>14.0</td>\n",
       "      <td>50.0</td>\n",
       "      <td>18.0</td>\n",
       "      <td>40.0</td>\n",
       "    </tr>\n",
       "    <tr>\n",
       "      <th>Comments_Received_Per_Day</th>\n",
       "      <td>10.0</td>\n",
       "      <td>25.0</td>\n",
       "      <td>5.0</td>\n",
       "      <td>30.0</td>\n",
       "      <td>2.0</td>\n",
       "      <td>15.0</td>\n",
       "      <td>10.0</td>\n",
       "      <td>12.0</td>\n",
       "      <td>3.0</td>\n",
       "      <td>20.0</td>\n",
       "      <td>...</td>\n",
       "      <td>4.0</td>\n",
       "      <td>25.0</td>\n",
       "      <td>16.0</td>\n",
       "      <td>10.0</td>\n",
       "      <td>25.0</td>\n",
       "      <td>18.0</td>\n",
       "      <td>6.0</td>\n",
       "      <td>25.0</td>\n",
       "      <td>8.0</td>\n",
       "      <td>18.0</td>\n",
       "    </tr>\n",
       "    <tr>\n",
       "      <th>Messages_Sent_Per_Day</th>\n",
       "      <td>12.0</td>\n",
       "      <td>30.0</td>\n",
       "      <td>20.0</td>\n",
       "      <td>50.0</td>\n",
       "      <td>10.0</td>\n",
       "      <td>25.0</td>\n",
       "      <td>18.0</td>\n",
       "      <td>22.0</td>\n",
       "      <td>8.0</td>\n",
       "      <td>35.0</td>\n",
       "      <td>...</td>\n",
       "      <td>10.0</td>\n",
       "      <td>25.0</td>\n",
       "      <td>22.0</td>\n",
       "      <td>28.0</td>\n",
       "      <td>30.0</td>\n",
       "      <td>18.0</td>\n",
       "      <td>10.0</td>\n",
       "      <td>25.0</td>\n",
       "      <td>18.0</td>\n",
       "      <td>22.0</td>\n",
       "    </tr>\n",
       "    <tr>\n",
       "      <th>Dominant_Emotion</th>\n",
       "      <td>Happiness</td>\n",
       "      <td>Anger</td>\n",
       "      <td>Neutral</td>\n",
       "      <td>Anxiety</td>\n",
       "      <td>Boredom</td>\n",
       "      <td>Happiness</td>\n",
       "      <td>Anger</td>\n",
       "      <td>Sadness</td>\n",
       "      <td>Neutral</td>\n",
       "      <td>Happiness</td>\n",
       "      <td>...</td>\n",
       "      <td>Boredom</td>\n",
       "      <td>Anger</td>\n",
       "      <td>Neutral</td>\n",
       "      <td>Sadness</td>\n",
       "      <td>Anxiety</td>\n",
       "      <td>Boredom</td>\n",
       "      <td>Neutral</td>\n",
       "      <td>Happiness</td>\n",
       "      <td>Anger</td>\n",
       "      <td>Neutral</td>\n",
       "    </tr>\n",
       "  </tbody>\n",
       "</table>\n",
       "<p>10 rows × 1001 columns</p>\n",
       "</div>"
      ],
      "text/plain": [
       "                                 0        1           2          3     \\\n",
       "User_ID                             1        2           3          4   \n",
       "Age                                25       30          22         28   \n",
       "Gender                         Female     Male  Non-binary     Female   \n",
       "Platform                    Instagram  Twitter    Facebook  Instagram   \n",
       "Daily_Usage_Time (minutes)      120.0     90.0        60.0      200.0   \n",
       "Posts_Per_Day                     3.0      5.0         2.0        8.0   \n",
       "Likes_Received_Per_Day           45.0     20.0        15.0      100.0   \n",
       "Comments_Received_Per_Day        10.0     25.0         5.0       30.0   \n",
       "Messages_Sent_Per_Day            12.0     30.0        20.0       50.0   \n",
       "Dominant_Emotion            Happiness    Anger     Neutral    Anxiety   \n",
       "\n",
       "                                4          5        6           7     \\\n",
       "User_ID                            5          6        7           8   \n",
       "Age                               33         21       27          24   \n",
       "Gender                          Male       Male   Female  Non-binary   \n",
       "Platform                    LinkedIn  Instagram  Twitter    Facebook   \n",
       "Daily_Usage_Time (minutes)      45.0      150.0     85.0       110.0   \n",
       "Posts_Per_Day                    1.0        4.0      3.0         6.0   \n",
       "Likes_Received_Per_Day           5.0       60.0     30.0        25.0   \n",
       "Comments_Received_Per_Day        2.0       15.0     10.0        12.0   \n",
       "Messages_Sent_Per_Day           10.0       25.0     18.0        22.0   \n",
       "Dominant_Emotion             Boredom  Happiness    Anger     Sadness   \n",
       "\n",
       "                                8          9     ...        991       992   \\\n",
       "User_ID                            9         10  ...         991       992   \n",
       "Age                               29         31  ...          27        32   \n",
       "Gender                        Female       Male  ...  Non-binary    Female   \n",
       "Platform                    LinkedIn  Instagram  ...    Facebook  Whatsapp   \n",
       "Daily_Usage_Time (minutes)      55.0      170.0  ...        50.0     105.0   \n",
       "Posts_Per_Day                    2.0        5.0  ...         1.0       4.0   \n",
       "Likes_Received_Per_Day          10.0       80.0  ...        10.0      55.0   \n",
       "Comments_Received_Per_Day        3.0       20.0  ...         4.0      25.0   \n",
       "Messages_Sent_Per_Day            8.0       35.0  ...        10.0      25.0   \n",
       "Dominant_Emotion             Neutral  Happiness  ...     Boredom     Anger   \n",
       "\n",
       "                                993       994        995         996   \\\n",
       "User_ID                          993       994        995         996   \n",
       "Age                               24        29         26          33   \n",
       "Gender                          Male    Female       Male  Non-binary   \n",
       "Platform                    Telegram  Snapchat  Instagram     Twitter   \n",
       "Daily_Usage_Time (minutes)      75.0      95.0      150.0        85.0   \n",
       "Posts_Per_Day                    3.0       2.0        5.0         4.0   \n",
       "Likes_Received_Per_Day          37.0      23.0       70.0        35.0   \n",
       "Comments_Received_Per_Day       16.0      10.0       25.0        18.0   \n",
       "Messages_Sent_Per_Day           22.0      28.0       30.0        18.0   \n",
       "Dominant_Emotion             Neutral   Sadness    Anxiety     Boredom   \n",
       "\n",
       "                                997        998         999       1000  \n",
       "User_ID                          997        998         999      1000  \n",
       "Age                               22         35          28        27  \n",
       "Gender                        Female       Male  Non-binary    Female  \n",
       "Platform                    Facebook   Whatsapp    Telegram  Snapchat  \n",
       "Daily_Usage_Time (minutes)      70.0      110.0        60.0     120.0  \n",
       "Posts_Per_Day                    1.0        3.0         2.0       4.0  \n",
       "Likes_Received_Per_Day          14.0       50.0        18.0      40.0  \n",
       "Comments_Received_Per_Day        6.0       25.0         8.0      18.0  \n",
       "Messages_Sent_Per_Day           10.0       25.0        18.0      22.0  \n",
       "Dominant_Emotion             Neutral  Happiness       Anger   Neutral  \n",
       "\n",
       "[10 rows x 1001 columns]"
      ]
     },
     "execution_count": 89,
     "metadata": {},
     "output_type": "execute_result"
    }
   ],
   "source": [
    "socialmedia_db = pd.read_csv('../data/train.csv')\n",
    "socialmedia_db.T"
   ]
  },
  {
   "cell_type": "markdown",
   "metadata": {},
   "source": [
    "## Initial Exploration"
   ]
  },
  {
   "cell_type": "markdown",
   "metadata": {},
   "source": [
    "* Learn about your data\n",
    "  * What types of information do you have?\n",
    "  * How many missing / nan values are in the data?\n",
    "  * What data types are the different columns?\n",
    "  * Are there any noticeable patterns in the data?\n",
    "* Useful tools\n",
    "  * .describe()\n",
    "  * .info()\n",
    "  * Scatter matrix / Pairplot\n",
    "  * .corr()"
   ]
  },
  {
   "cell_type": "markdown",
   "metadata": {},
   "source": [
    "shape()"
   ]
  },
  {
   "cell_type": "code",
   "execution_count": 90,
   "metadata": {},
   "outputs": [
    {
     "data": {
      "text/plain": [
       "(1001, 10)"
      ]
     },
     "execution_count": 90,
     "metadata": {},
     "output_type": "execute_result"
    }
   ],
   "source": [
    "socialmedia_db.shape"
   ]
  },
  {
   "cell_type": "markdown",
   "metadata": {},
   "source": [
    "describe()"
   ]
  },
  {
   "cell_type": "code",
   "execution_count": 91,
   "metadata": {},
   "outputs": [
    {
     "data": {
      "text/html": [
       "<div>\n",
       "<style scoped>\n",
       "    .dataframe tbody tr th:only-of-type {\n",
       "        vertical-align: middle;\n",
       "    }\n",
       "\n",
       "    .dataframe tbody tr th {\n",
       "        vertical-align: top;\n",
       "    }\n",
       "\n",
       "    .dataframe thead th {\n",
       "        text-align: right;\n",
       "    }\n",
       "</style>\n",
       "<table border=\"1\" class=\"dataframe\">\n",
       "  <thead>\n",
       "    <tr style=\"text-align: right;\">\n",
       "      <th></th>\n",
       "      <th>Daily_Usage_Time (minutes)</th>\n",
       "      <th>Posts_Per_Day</th>\n",
       "      <th>Likes_Received_Per_Day</th>\n",
       "      <th>Comments_Received_Per_Day</th>\n",
       "      <th>Messages_Sent_Per_Day</th>\n",
       "    </tr>\n",
       "  </thead>\n",
       "  <tbody>\n",
       "    <tr>\n",
       "      <th>count</th>\n",
       "      <td>1000.000000</td>\n",
       "      <td>1000.000000</td>\n",
       "      <td>1000.000000</td>\n",
       "      <td>1000.000000</td>\n",
       "      <td>1000.000000</td>\n",
       "    </tr>\n",
       "    <tr>\n",
       "      <th>mean</th>\n",
       "      <td>95.950000</td>\n",
       "      <td>3.321000</td>\n",
       "      <td>39.898000</td>\n",
       "      <td>15.611000</td>\n",
       "      <td>22.560000</td>\n",
       "    </tr>\n",
       "    <tr>\n",
       "      <th>std</th>\n",
       "      <td>38.850442</td>\n",
       "      <td>1.914582</td>\n",
       "      <td>26.393867</td>\n",
       "      <td>8.819493</td>\n",
       "      <td>8.516274</td>\n",
       "    </tr>\n",
       "    <tr>\n",
       "      <th>min</th>\n",
       "      <td>40.000000</td>\n",
       "      <td>1.000000</td>\n",
       "      <td>5.000000</td>\n",
       "      <td>2.000000</td>\n",
       "      <td>8.000000</td>\n",
       "    </tr>\n",
       "    <tr>\n",
       "      <th>25%</th>\n",
       "      <td>65.000000</td>\n",
       "      <td>2.000000</td>\n",
       "      <td>20.000000</td>\n",
       "      <td>8.000000</td>\n",
       "      <td>17.750000</td>\n",
       "    </tr>\n",
       "    <tr>\n",
       "      <th>50%</th>\n",
       "      <td>85.000000</td>\n",
       "      <td>3.000000</td>\n",
       "      <td>33.000000</td>\n",
       "      <td>14.000000</td>\n",
       "      <td>22.000000</td>\n",
       "    </tr>\n",
       "    <tr>\n",
       "      <th>75%</th>\n",
       "      <td>120.000000</td>\n",
       "      <td>4.000000</td>\n",
       "      <td>55.000000</td>\n",
       "      <td>22.000000</td>\n",
       "      <td>28.000000</td>\n",
       "    </tr>\n",
       "    <tr>\n",
       "      <th>max</th>\n",
       "      <td>200.000000</td>\n",
       "      <td>8.000000</td>\n",
       "      <td>110.000000</td>\n",
       "      <td>40.000000</td>\n",
       "      <td>50.000000</td>\n",
       "    </tr>\n",
       "  </tbody>\n",
       "</table>\n",
       "</div>"
      ],
      "text/plain": [
       "       Daily_Usage_Time (minutes)  Posts_Per_Day  Likes_Received_Per_Day  \\\n",
       "count                 1000.000000    1000.000000             1000.000000   \n",
       "mean                    95.950000       3.321000               39.898000   \n",
       "std                     38.850442       1.914582               26.393867   \n",
       "min                     40.000000       1.000000                5.000000   \n",
       "25%                     65.000000       2.000000               20.000000   \n",
       "50%                     85.000000       3.000000               33.000000   \n",
       "75%                    120.000000       4.000000               55.000000   \n",
       "max                    200.000000       8.000000              110.000000   \n",
       "\n",
       "       Comments_Received_Per_Day  Messages_Sent_Per_Day  \n",
       "count                1000.000000            1000.000000  \n",
       "mean                   15.611000              22.560000  \n",
       "std                     8.819493               8.516274  \n",
       "min                     2.000000               8.000000  \n",
       "25%                     8.000000              17.750000  \n",
       "50%                    14.000000              22.000000  \n",
       "75%                    22.000000              28.000000  \n",
       "max                    40.000000              50.000000  "
      ]
     },
     "execution_count": 91,
     "metadata": {},
     "output_type": "execute_result"
    }
   ],
   "source": [
    "# Code Here\n",
    "socialmedia_db.describe()"
   ]
  },
  {
   "cell_type": "markdown",
   "metadata": {},
   "source": [
    "info()"
   ]
  },
  {
   "cell_type": "code",
   "execution_count": 92,
   "metadata": {},
   "outputs": [
    {
     "name": "stdout",
     "output_type": "stream",
     "text": [
      "<class 'pandas.core.frame.DataFrame'>\n",
      "RangeIndex: 1001 entries, 0 to 1000\n",
      "Data columns (total 10 columns):\n",
      " #   Column                      Non-Null Count  Dtype  \n",
      "---  ------                      --------------  -----  \n",
      " 0   User_ID                     1001 non-null   object \n",
      " 1   Age                         1001 non-null   object \n",
      " 2   Gender                      1000 non-null   object \n",
      " 3   Platform                    1000 non-null   object \n",
      " 4   Daily_Usage_Time (minutes)  1000 non-null   float64\n",
      " 5   Posts_Per_Day               1000 non-null   float64\n",
      " 6   Likes_Received_Per_Day      1000 non-null   float64\n",
      " 7   Comments_Received_Per_Day   1000 non-null   float64\n",
      " 8   Messages_Sent_Per_Day       1000 non-null   float64\n",
      " 9   Dominant_Emotion            1000 non-null   object \n",
      "dtypes: float64(5), object(5)\n",
      "memory usage: 78.3+ KB\n"
     ]
    }
   ],
   "source": [
    "socialmedia_db.info()"
   ]
  },
  {
   "cell_type": "code",
   "execution_count": 93,
   "metadata": {},
   "outputs": [
    {
     "data": {
      "text/plain": [
       "array(['Happiness', 'Anger', 'Neutral', 'Anxiety', 'Boredom', 'Sadness',\n",
       "       nan], dtype=object)"
      ]
     },
     "execution_count": 93,
     "metadata": {},
     "output_type": "execute_result"
    }
   ],
   "source": [
    "socialmedia_db[\"Dominant_Emotion\"].unique()"
   ]
  },
  {
   "cell_type": "markdown",
   "metadata": {},
   "source": [
    "## Initial Question"
   ]
  },
  {
   "cell_type": "markdown",
   "metadata": {},
   "source": [
    "* Initial Question\n",
    "  * What types answers do you want the data to provide?\n",
    "  * Will **THIS** data set be able to inform that question?\n",
    "* During your exploration of the data did any patterns or quirks provoke any\n",
    "  questions related to initial question"
   ]
  },
  {
   "cell_type": "markdown",
   "metadata": {},
   "source": []
  },
  {
   "cell_type": "markdown",
   "metadata": {},
   "source": [
    "## Clean Data / Transform Data"
   ]
  },
  {
   "cell_type": "markdown",
   "metadata": {},
   "source": [
    "### Cleaning Your Data"
   ]
  },
  {
   "cell_type": "markdown",
   "metadata": {},
   "source": [
    "* Did you split your data in training and testing sets?\n",
    "  * Why is it usually better but harder to split before cleaning?\n",
    "    * Are your cleaning choices affecting the data\n",
    "      * e.g. if you impute values with the mean of a column, is the mean or\n",
    "        median of that column now different?\n",
    "  * If you split data before cleaning, how do you make sure that there are a\n",
    "    consistent set of steps being done for both the training and testing sets?\n",
    "      * Hint: functions and classes will perform a consistent set of steps\n",
    "* Are there any null values?\n",
    "  * How many?\n",
    "  * In which columns?\n",
    "* Are there any columns with mostly missing values?\n",
    "* Why are there missing values?\n",
    "  * Are values missing at random?\n",
    "  * Are values missing for a logical reason connected with the data or its collection?\n",
    "* Are there any rows or columns with typos or incorrect data\n",
    "  * (e.g. \"?\", \"0\" as opposed to 0, \"Don't know\", ...)\n",
    "* Are the data types of the columns what you expect?\n",
    "  * (e.g. dates that are actually strings, numbers pandas interpreted as strings)\n",
    "* Are there extreme outliers (extreme values) in your data?\n",
    "  * How should you deal with these?\n",
    "  * How do they relate to your question? Do you need to keep them?"
   ]
  },
  {
   "cell_type": "markdown",
   "metadata": {},
   "source": [
    "*Data already split into training and test data"
   ]
  },
  {
   "cell_type": "markdown",
   "metadata": {},
   "source": [
    "Noticed that age and gender are occasionally swapped, writing code to correct this"
   ]
  },
  {
   "cell_type": "code",
   "execution_count": 94,
   "metadata": {},
   "outputs": [],
   "source": [
    "# Function identifying if the value can be converted into a integer or not\n",
    "def can_convert_to_int(value):\n",
    "    try:\n",
    "        int(value)\n",
    "        return True\n",
    "    except ValueError:\n",
    "        return False\n",
    "\n",
    "# Condition to identify rows where values need to be swapped using above function\n",
    "condition = socialmedia_db.apply(lambda row: can_convert_to_int(row['Gender']), axis=1)\n",
    "\n",
    "# Using the specified condition, swap the values into the proper column\n",
    "socialmedia_db.loc[condition, ['Age', 'Gender']] = socialmedia_db.loc[condition, ['Gender', 'Age']].values\n",
    "\n",
    "# Save this to a new clean csv\n",
    "socialmedia_db.to_csv('../data/clean_train_1.csv', index=False)\n",
    "socialmedia_db = pd.read_csv('../data/clean_train_1.csv')"
   ]
  },
  {
   "cell_type": "markdown",
   "metadata": {},
   "source": [
    "Looking for nulls"
   ]
  },
  {
   "cell_type": "code",
   "execution_count": 95,
   "metadata": {},
   "outputs": [],
   "source": [
    "# One null found, dropping any rows without full information, given how few columns there are, each value is important to have\n",
    "socialmedia_db.dropna(inplace=True)"
   ]
  },
  {
   "cell_type": "markdown",
   "metadata": {},
   "source": [
    "*Looking for potential non-null empty values, appears all is in order"
   ]
  },
  {
   "cell_type": "markdown",
   "metadata": {},
   "source": [
    "Validating data types"
   ]
  },
  {
   "cell_type": "code",
   "execution_count": 96,
   "metadata": {},
   "outputs": [
    {
     "name": "stdout",
     "output_type": "stream",
     "text": [
      "<class 'pandas.core.frame.DataFrame'>\n",
      "Index: 1000 entries, 0 to 1000\n",
      "Data columns (total 10 columns):\n",
      " #   Column                      Non-Null Count  Dtype  \n",
      "---  ------                      --------------  -----  \n",
      " 0   User_ID                     1000 non-null   object \n",
      " 1   Age                         1000 non-null   int16  \n",
      " 2   Gender                      1000 non-null   object \n",
      " 3   Platform                    1000 non-null   object \n",
      " 4   Daily_Usage_Time (minutes)  1000 non-null   float64\n",
      " 5   Posts_Per_Day               1000 non-null   float64\n",
      " 6   Likes_Received_Per_Day      1000 non-null   float64\n",
      " 7   Comments_Received_Per_Day   1000 non-null   float64\n",
      " 8   Messages_Sent_Per_Day       1000 non-null   float64\n",
      " 9   Dominant_Emotion            1000 non-null   object \n",
      "dtypes: float64(5), int16(1), object(4)\n",
      "memory usage: 80.1+ KB\n"
     ]
    }
   ],
   "source": [
    "# Age is still seen as an object, forcing them into int16 (memory saving in case the dataset is larger in future cases as age will most likely never exceed 32767)\n",
    "socialmedia_db['Age'] = socialmedia_db['Age'].astype('int16')\n",
    "socialmedia_db.info()"
   ]
  },
  {
   "cell_type": "markdown",
   "metadata": {},
   "source": [
    "Searching for outliers and their validity"
   ]
  },
  {
   "cell_type": "code",
   "execution_count": 97,
   "metadata": {},
   "outputs": [
    {
     "name": "stdout",
     "output_type": "stream",
     "text": [
      "User_ID 999\n",
      "Age 35\n",
      "Gender Non-binary\n",
      "Platform Whatsapp\n",
      "Daily_Usage_Time (minutes) 200.0\n",
      "Posts_Per_Day 8.0\n",
      "Likes_Received_Per_Day 110.0\n",
      "Comments_Received_Per_Day 40.0\n",
      "Messages_Sent_Per_Day 50.0\n",
      "Dominant_Emotion Sadness\n"
     ]
    }
   ],
   "source": [
    "for col in socialmedia_db:\n",
    "    print(col, socialmedia_db[col].max())"
   ]
  },
  {
   "cell_type": "markdown",
   "metadata": {},
   "source": [
    "### Transforming Your Data"
   ]
  },
  {
   "cell_type": "markdown",
   "metadata": {},
   "source": [
    "* Do you need to scale your data for your analysis?\n",
    "  * Hypothesis testing - usually no\n",
    "    * For example, t-test should usually not be scaled before they are\n",
    "      performed because the variance in the data is part of the interpretation\n",
    "  * Machine Learning - usually yes\n",
    "* Do you have any categorical variables that need to be dummy encoded\n",
    "  * For example, yellow, blue, red colors to three columns like is_yellow,\n",
    "    is_blue, is_red that have True or False (1 / 0)"
   ]
  },
  {
   "cell_type": "markdown",
   "metadata": {},
   "source": [
    "Beginning of split for analysis and predictions through machine learning"
   ]
  },
  {
   "cell_type": "markdown",
   "metadata": {},
   "source": [
    "#### Machine Learning Split"
   ]
  },
  {
   "cell_type": "code",
   "execution_count": 98,
   "metadata": {},
   "outputs": [
    {
     "data": {
      "text/html": [
       "<div>\n",
       "<style scoped>\n",
       "    .dataframe tbody tr th:only-of-type {\n",
       "        vertical-align: middle;\n",
       "    }\n",
       "\n",
       "    .dataframe tbody tr th {\n",
       "        vertical-align: top;\n",
       "    }\n",
       "\n",
       "    .dataframe thead th {\n",
       "        text-align: right;\n",
       "    }\n",
       "</style>\n",
       "<table border=\"1\" class=\"dataframe\">\n",
       "  <thead>\n",
       "    <tr style=\"text-align: right;\">\n",
       "      <th></th>\n",
       "      <th>Age</th>\n",
       "      <th>Daily_Usage_Time (minutes)</th>\n",
       "      <th>Posts_Per_Day</th>\n",
       "      <th>Likes_Received_Per_Day</th>\n",
       "      <th>Comments_Received_Per_Day</th>\n",
       "      <th>Messages_Sent_Per_Day</th>\n",
       "      <th>Gender_Female</th>\n",
       "      <th>Gender_Male</th>\n",
       "      <th>Gender_Non-binary</th>\n",
       "      <th>Platform_Facebook</th>\n",
       "      <th>...</th>\n",
       "      <th>Platform_Snapchat</th>\n",
       "      <th>Platform_Telegram</th>\n",
       "      <th>Platform_Twitter</th>\n",
       "      <th>Platform_Whatsapp</th>\n",
       "      <th>Dominant_Emotion_Anger</th>\n",
       "      <th>Dominant_Emotion_Anxiety</th>\n",
       "      <th>Dominant_Emotion_Boredom</th>\n",
       "      <th>Dominant_Emotion_Happiness</th>\n",
       "      <th>Dominant_Emotion_Neutral</th>\n",
       "      <th>Dominant_Emotion_Sadness</th>\n",
       "    </tr>\n",
       "  </thead>\n",
       "  <tbody>\n",
       "    <tr>\n",
       "      <th>0</th>\n",
       "      <td>25</td>\n",
       "      <td>120.0</td>\n",
       "      <td>3.0</td>\n",
       "      <td>45.0</td>\n",
       "      <td>10.0</td>\n",
       "      <td>12.0</td>\n",
       "      <td>True</td>\n",
       "      <td>False</td>\n",
       "      <td>False</td>\n",
       "      <td>False</td>\n",
       "      <td>...</td>\n",
       "      <td>False</td>\n",
       "      <td>False</td>\n",
       "      <td>False</td>\n",
       "      <td>False</td>\n",
       "      <td>False</td>\n",
       "      <td>False</td>\n",
       "      <td>False</td>\n",
       "      <td>True</td>\n",
       "      <td>False</td>\n",
       "      <td>False</td>\n",
       "    </tr>\n",
       "    <tr>\n",
       "      <th>1</th>\n",
       "      <td>30</td>\n",
       "      <td>90.0</td>\n",
       "      <td>5.0</td>\n",
       "      <td>20.0</td>\n",
       "      <td>25.0</td>\n",
       "      <td>30.0</td>\n",
       "      <td>False</td>\n",
       "      <td>True</td>\n",
       "      <td>False</td>\n",
       "      <td>False</td>\n",
       "      <td>...</td>\n",
       "      <td>False</td>\n",
       "      <td>False</td>\n",
       "      <td>True</td>\n",
       "      <td>False</td>\n",
       "      <td>True</td>\n",
       "      <td>False</td>\n",
       "      <td>False</td>\n",
       "      <td>False</td>\n",
       "      <td>False</td>\n",
       "      <td>False</td>\n",
       "    </tr>\n",
       "    <tr>\n",
       "      <th>2</th>\n",
       "      <td>22</td>\n",
       "      <td>60.0</td>\n",
       "      <td>2.0</td>\n",
       "      <td>15.0</td>\n",
       "      <td>5.0</td>\n",
       "      <td>20.0</td>\n",
       "      <td>False</td>\n",
       "      <td>False</td>\n",
       "      <td>True</td>\n",
       "      <td>True</td>\n",
       "      <td>...</td>\n",
       "      <td>False</td>\n",
       "      <td>False</td>\n",
       "      <td>False</td>\n",
       "      <td>False</td>\n",
       "      <td>False</td>\n",
       "      <td>False</td>\n",
       "      <td>False</td>\n",
       "      <td>False</td>\n",
       "      <td>True</td>\n",
       "      <td>False</td>\n",
       "    </tr>\n",
       "    <tr>\n",
       "      <th>3</th>\n",
       "      <td>28</td>\n",
       "      <td>200.0</td>\n",
       "      <td>8.0</td>\n",
       "      <td>100.0</td>\n",
       "      <td>30.0</td>\n",
       "      <td>50.0</td>\n",
       "      <td>True</td>\n",
       "      <td>False</td>\n",
       "      <td>False</td>\n",
       "      <td>False</td>\n",
       "      <td>...</td>\n",
       "      <td>False</td>\n",
       "      <td>False</td>\n",
       "      <td>False</td>\n",
       "      <td>False</td>\n",
       "      <td>False</td>\n",
       "      <td>True</td>\n",
       "      <td>False</td>\n",
       "      <td>False</td>\n",
       "      <td>False</td>\n",
       "      <td>False</td>\n",
       "    </tr>\n",
       "    <tr>\n",
       "      <th>4</th>\n",
       "      <td>33</td>\n",
       "      <td>45.0</td>\n",
       "      <td>1.0</td>\n",
       "      <td>5.0</td>\n",
       "      <td>2.0</td>\n",
       "      <td>10.0</td>\n",
       "      <td>False</td>\n",
       "      <td>True</td>\n",
       "      <td>False</td>\n",
       "      <td>False</td>\n",
       "      <td>...</td>\n",
       "      <td>False</td>\n",
       "      <td>False</td>\n",
       "      <td>False</td>\n",
       "      <td>False</td>\n",
       "      <td>False</td>\n",
       "      <td>False</td>\n",
       "      <td>True</td>\n",
       "      <td>False</td>\n",
       "      <td>False</td>\n",
       "      <td>False</td>\n",
       "    </tr>\n",
       "    <tr>\n",
       "      <th>...</th>\n",
       "      <td>...</td>\n",
       "      <td>...</td>\n",
       "      <td>...</td>\n",
       "      <td>...</td>\n",
       "      <td>...</td>\n",
       "      <td>...</td>\n",
       "      <td>...</td>\n",
       "      <td>...</td>\n",
       "      <td>...</td>\n",
       "      <td>...</td>\n",
       "      <td>...</td>\n",
       "      <td>...</td>\n",
       "      <td>...</td>\n",
       "      <td>...</td>\n",
       "      <td>...</td>\n",
       "      <td>...</td>\n",
       "      <td>...</td>\n",
       "      <td>...</td>\n",
       "      <td>...</td>\n",
       "      <td>...</td>\n",
       "      <td>...</td>\n",
       "    </tr>\n",
       "    <tr>\n",
       "      <th>996</th>\n",
       "      <td>33</td>\n",
       "      <td>85.0</td>\n",
       "      <td>4.0</td>\n",
       "      <td>35.0</td>\n",
       "      <td>18.0</td>\n",
       "      <td>18.0</td>\n",
       "      <td>False</td>\n",
       "      <td>False</td>\n",
       "      <td>True</td>\n",
       "      <td>False</td>\n",
       "      <td>...</td>\n",
       "      <td>False</td>\n",
       "      <td>False</td>\n",
       "      <td>True</td>\n",
       "      <td>False</td>\n",
       "      <td>False</td>\n",
       "      <td>False</td>\n",
       "      <td>True</td>\n",
       "      <td>False</td>\n",
       "      <td>False</td>\n",
       "      <td>False</td>\n",
       "    </tr>\n",
       "    <tr>\n",
       "      <th>997</th>\n",
       "      <td>22</td>\n",
       "      <td>70.0</td>\n",
       "      <td>1.0</td>\n",
       "      <td>14.0</td>\n",
       "      <td>6.0</td>\n",
       "      <td>10.0</td>\n",
       "      <td>True</td>\n",
       "      <td>False</td>\n",
       "      <td>False</td>\n",
       "      <td>True</td>\n",
       "      <td>...</td>\n",
       "      <td>False</td>\n",
       "      <td>False</td>\n",
       "      <td>False</td>\n",
       "      <td>False</td>\n",
       "      <td>False</td>\n",
       "      <td>False</td>\n",
       "      <td>False</td>\n",
       "      <td>False</td>\n",
       "      <td>True</td>\n",
       "      <td>False</td>\n",
       "    </tr>\n",
       "    <tr>\n",
       "      <th>998</th>\n",
       "      <td>35</td>\n",
       "      <td>110.0</td>\n",
       "      <td>3.0</td>\n",
       "      <td>50.0</td>\n",
       "      <td>25.0</td>\n",
       "      <td>25.0</td>\n",
       "      <td>False</td>\n",
       "      <td>True</td>\n",
       "      <td>False</td>\n",
       "      <td>False</td>\n",
       "      <td>...</td>\n",
       "      <td>False</td>\n",
       "      <td>False</td>\n",
       "      <td>False</td>\n",
       "      <td>True</td>\n",
       "      <td>False</td>\n",
       "      <td>False</td>\n",
       "      <td>False</td>\n",
       "      <td>True</td>\n",
       "      <td>False</td>\n",
       "      <td>False</td>\n",
       "    </tr>\n",
       "    <tr>\n",
       "      <th>999</th>\n",
       "      <td>28</td>\n",
       "      <td>60.0</td>\n",
       "      <td>2.0</td>\n",
       "      <td>18.0</td>\n",
       "      <td>8.0</td>\n",
       "      <td>18.0</td>\n",
       "      <td>False</td>\n",
       "      <td>False</td>\n",
       "      <td>True</td>\n",
       "      <td>False</td>\n",
       "      <td>...</td>\n",
       "      <td>False</td>\n",
       "      <td>True</td>\n",
       "      <td>False</td>\n",
       "      <td>False</td>\n",
       "      <td>True</td>\n",
       "      <td>False</td>\n",
       "      <td>False</td>\n",
       "      <td>False</td>\n",
       "      <td>False</td>\n",
       "      <td>False</td>\n",
       "    </tr>\n",
       "    <tr>\n",
       "      <th>1000</th>\n",
       "      <td>27</td>\n",
       "      <td>120.0</td>\n",
       "      <td>4.0</td>\n",
       "      <td>40.0</td>\n",
       "      <td>18.0</td>\n",
       "      <td>22.0</td>\n",
       "      <td>True</td>\n",
       "      <td>False</td>\n",
       "      <td>False</td>\n",
       "      <td>False</td>\n",
       "      <td>...</td>\n",
       "      <td>True</td>\n",
       "      <td>False</td>\n",
       "      <td>False</td>\n",
       "      <td>False</td>\n",
       "      <td>False</td>\n",
       "      <td>False</td>\n",
       "      <td>False</td>\n",
       "      <td>False</td>\n",
       "      <td>True</td>\n",
       "      <td>False</td>\n",
       "    </tr>\n",
       "  </tbody>\n",
       "</table>\n",
       "<p>1000 rows × 22 columns</p>\n",
       "</div>"
      ],
      "text/plain": [
       "      Age  Daily_Usage_Time (minutes)  Posts_Per_Day  Likes_Received_Per_Day  \\\n",
       "0      25                       120.0            3.0                    45.0   \n",
       "1      30                        90.0            5.0                    20.0   \n",
       "2      22                        60.0            2.0                    15.0   \n",
       "3      28                       200.0            8.0                   100.0   \n",
       "4      33                        45.0            1.0                     5.0   \n",
       "...   ...                         ...            ...                     ...   \n",
       "996    33                        85.0            4.0                    35.0   \n",
       "997    22                        70.0            1.0                    14.0   \n",
       "998    35                       110.0            3.0                    50.0   \n",
       "999    28                        60.0            2.0                    18.0   \n",
       "1000   27                       120.0            4.0                    40.0   \n",
       "\n",
       "      Comments_Received_Per_Day  Messages_Sent_Per_Day  Gender_Female  \\\n",
       "0                          10.0                   12.0           True   \n",
       "1                          25.0                   30.0          False   \n",
       "2                           5.0                   20.0          False   \n",
       "3                          30.0                   50.0           True   \n",
       "4                           2.0                   10.0          False   \n",
       "...                         ...                    ...            ...   \n",
       "996                        18.0                   18.0          False   \n",
       "997                         6.0                   10.0           True   \n",
       "998                        25.0                   25.0          False   \n",
       "999                         8.0                   18.0          False   \n",
       "1000                       18.0                   22.0           True   \n",
       "\n",
       "      Gender_Male  Gender_Non-binary  Platform_Facebook  ...  \\\n",
       "0           False              False              False  ...   \n",
       "1            True              False              False  ...   \n",
       "2           False               True               True  ...   \n",
       "3           False              False              False  ...   \n",
       "4            True              False              False  ...   \n",
       "...           ...                ...                ...  ...   \n",
       "996         False               True              False  ...   \n",
       "997         False              False               True  ...   \n",
       "998          True              False              False  ...   \n",
       "999         False               True              False  ...   \n",
       "1000        False              False              False  ...   \n",
       "\n",
       "      Platform_Snapchat  Platform_Telegram  Platform_Twitter  \\\n",
       "0                 False              False             False   \n",
       "1                 False              False              True   \n",
       "2                 False              False             False   \n",
       "3                 False              False             False   \n",
       "4                 False              False             False   \n",
       "...                 ...                ...               ...   \n",
       "996               False              False              True   \n",
       "997               False              False             False   \n",
       "998               False              False             False   \n",
       "999               False               True             False   \n",
       "1000               True              False             False   \n",
       "\n",
       "      Platform_Whatsapp  Dominant_Emotion_Anger  Dominant_Emotion_Anxiety  \\\n",
       "0                 False                   False                     False   \n",
       "1                 False                    True                     False   \n",
       "2                 False                   False                     False   \n",
       "3                 False                   False                      True   \n",
       "4                 False                   False                     False   \n",
       "...                 ...                     ...                       ...   \n",
       "996               False                   False                     False   \n",
       "997               False                   False                     False   \n",
       "998                True                   False                     False   \n",
       "999               False                    True                     False   \n",
       "1000              False                   False                     False   \n",
       "\n",
       "      Dominant_Emotion_Boredom  Dominant_Emotion_Happiness  \\\n",
       "0                        False                        True   \n",
       "1                        False                       False   \n",
       "2                        False                       False   \n",
       "3                        False                       False   \n",
       "4                         True                       False   \n",
       "...                        ...                         ...   \n",
       "996                       True                       False   \n",
       "997                      False                       False   \n",
       "998                      False                        True   \n",
       "999                      False                       False   \n",
       "1000                     False                       False   \n",
       "\n",
       "      Dominant_Emotion_Neutral  Dominant_Emotion_Sadness  \n",
       "0                        False                     False  \n",
       "1                        False                     False  \n",
       "2                         True                     False  \n",
       "3                        False                     False  \n",
       "4                        False                     False  \n",
       "...                        ...                       ...  \n",
       "996                      False                     False  \n",
       "997                       True                     False  \n",
       "998                      False                     False  \n",
       "999                      False                     False  \n",
       "1000                      True                     False  \n",
       "\n",
       "[1000 rows x 22 columns]"
      ]
     },
     "execution_count": 98,
     "metadata": {},
     "output_type": "execute_result"
    }
   ],
   "source": [
    "# User ID isn't needed for predictions\n",
    "socialmedia_ml_db = socialmedia_db.drop(\"User_ID\", axis=1, inplace=True)\n",
    "\n",
    "# Getting dummies for all categorial variables\n",
    "socialmedia_ml_db = pd.get_dummies(socialmedia_db)\n",
    "socialmedia_ml_db\n"
   ]
  },
  {
   "cell_type": "markdown",
   "metadata": {},
   "source": [
    "#### Analysis Split"
   ]
  },
  {
   "cell_type": "code",
   "execution_count": 99,
   "metadata": {},
   "outputs": [
    {
     "data": {
      "text/plain": [
       "Index(['Age', 'Gender', 'Platform', 'Daily_Usage_Time (minutes)',\n",
       "       'Posts_Per_Day', 'Likes_Received_Per_Day', 'Comments_Received_Per_Day',\n",
       "       'Messages_Sent_Per_Day', 'Dominant_Emotion'],\n",
       "      dtype='object')"
      ]
     },
     "execution_count": 99,
     "metadata": {},
     "output_type": "execute_result"
    }
   ],
   "source": [
    "socialmedia_db.columns"
   ]
  },
  {
   "cell_type": "code",
   "execution_count": 100,
   "metadata": {},
   "outputs": [
    {
     "name": "stdout",
     "output_type": "stream",
     "text": [
      "Gender: ['Female' 'Male' 'Non-binary'],\n",
      "Platform: ['Instagram' 'Twitter' 'Facebook' 'LinkedIn' 'Whatsapp' 'Telegram'\n",
      " 'Snapchat'],\n",
      "Emotions: ['Happiness' 'Anger' 'Neutral' 'Anxiety' 'Boredom' 'Sadness']\n"
     ]
    }
   ],
   "source": [
    "unique_genders = socialmedia_db[\"Gender\"].unique()\n",
    "unique_platforms = socialmedia_db[\"Platform\"].unique()\n",
    "unique_emotions = socialmedia_db[\"Dominant_Emotion\"].unique()\n",
    "print(f\"Gender: {unique_genders},\\nPlatform: {unique_platforms},\\nEmotions: {unique_emotions}\")"
   ]
  },
  {
   "cell_type": "code",
   "execution_count": 101,
   "metadata": {},
   "outputs": [
    {
     "data": {
      "text/plain": [
       "Gender      Dominant_Emotion\n",
       "Female      Happiness           110\n",
       "            Anxiety              60\n",
       "            Anger                60\n",
       "            Neutral              60\n",
       "            Sadness              50\n",
       "            Boredom              30\n",
       "Male        Happiness            70\n",
       "            Anxiety              60\n",
       "            Sadness              60\n",
       "            Boredom              60\n",
       "            Anger                60\n",
       "            Neutral              50\n",
       "Non-binary  Neutral              90\n",
       "            Anxiety              50\n",
       "            Boredom              50\n",
       "            Sadness              50\n",
       "            Happiness            20\n",
       "            Anger                10\n",
       "Name: count, dtype: int64"
      ]
     },
     "execution_count": 101,
     "metadata": {},
     "output_type": "execute_result"
    }
   ],
   "source": [
    "socialmedia_db.groupby(\"Gender\")[\"Dominant_Emotion\"].value_counts()"
   ]
  },
  {
   "cell_type": "code",
   "execution_count": 102,
   "metadata": {},
   "outputs": [
    {
     "data": {
      "text/plain": [
       "<pandas.core.groupby.generic.DataFrameGroupBy object at 0x0000022CB3A37110>"
      ]
     },
     "execution_count": 102,
     "metadata": {},
     "output_type": "execute_result"
    }
   ],
   "source": [
    "gender_columns = [\"Gender\", \"Dominant_Emotion\"]\n",
    "test_socialmedia_db = socialmedia_db[gender_columns]\n",
    "columns = list(test_socialmedia_db.columns)\n",
    "test_socialmedia_db.groupby(columns)"
   ]
  },
  {
   "cell_type": "markdown",
   "metadata": {},
   "source": [
    "## Context"
   ]
  },
  {
   "cell_type": "markdown",
   "metadata": {},
   "source": [
    "* What information or visualizations does the audience need to understand what\n",
    "  your analysis is?\n",
    "* What information or visualizations does the audience need to understand why\n",
    "  your analysis is important?"
   ]
  },
  {
   "cell_type": "markdown",
   "metadata": {},
   "source": [
    "#### Initial Graphs"
   ]
  },
  {
   "cell_type": "markdown",
   "metadata": {},
   "source": [
    "Time spent on social media vs amount of posts, likes recieved, comments, messages sent (line graph)"
   ]
  },
  {
   "cell_type": "code",
   "execution_count": null,
   "metadata": {},
   "outputs": [],
   "source": []
  },
  {
   "cell_type": "markdown",
   "metadata": {},
   "source": [
    "Emotions totals  (bar chart)"
   ]
  },
  {
   "cell_type": "code",
   "execution_count": 142,
   "metadata": {},
   "outputs": [
    {
     "data": {
      "image/png": "[encoded data removed]",
      "text/plain": [
       "<Figure size 700x700 with 1 Axes>"
      ]
     },
     "metadata": {},
     "output_type": "display_data"
    }
   ],
   "source": [
    "socialmedia_db[\"Dominant_Emotion\"].value_counts().plot(kind='bar', figsize=(7, 7), color=['olive', 'orange', 'purple', 'brown', 'indigo', 'violet'])\n",
    "plt.ylabel(\"Emotion Total Counts\")\n",
    "plt.xlabel(\"Dominant Emotion Reported\")\n",
    "plt.xticks(rotation=0)\n",
    "plt.savefig('../img/Emotion_Totals.png', bbox_inches='tight')\n",
    "plt.show() "
   ]
  },
  {
   "cell_type": "markdown",
   "metadata": {},
   "source": [
    "Emotional status based on gender"
   ]
  },
  {
   "cell_type": "code",
   "execution_count": 103,
   "metadata": {},
   "outputs": [
    {
     "data": {
      "image/png": "[encoded data removed]",
      "text/plain": [
       "<Figure size 500x500 with 1 Axes>"
      ]
     },
     "metadata": {},
     "output_type": "display_data"
    }
   ],
   "source": [
    "# Create new df using only required fields\n",
    "gender_columns = [\"Gender\", \"Dominant_Emotion\"]\n",
    "socialmedia__gender_db = socialmedia_db[gender_columns]\n",
    "\n",
    "# Setting a colorblind-friendly palette\n",
    "color_palette = sns.set_palette('colorblind')\n",
    "\n",
    "# Groupby Gender and Emotion\n",
    "socialmedia__gender_db.groupby([\"Gender\", \"Dominant_Emotion\"]).size().unstack().plot(kind='bar', stacked=True, figsize=(5, 5), color=color_palette)\n",
    "plt.legend(loc='upper left', bbox_to_anchor=(1.05, 1))\n",
    "plt.savefig('../img/Emotion_to_Gender.png', bbox_inches='tight')\n",
    "plt.show()"
   ]
  },
  {
   "cell_type": "markdown",
   "metadata": {},
   "source": [
    "Emotional Status regardless of gender, dependant on age"
   ]
  },
  {
   "cell_type": "markdown",
   "metadata": {},
   "source": [
    "Change age to categorial 5 year increments"
   ]
  },
  {
   "cell_type": "code",
   "execution_count": 104,
   "metadata": {},
   "outputs": [
    {
     "name": "stderr",
     "output_type": "stream",
     "text": [
      "C:\\Users\\amhea\\AppData\\Local\\Temp\\ipykernel_22592\\3024525657.py:10: SettingWithCopyWarning: \n",
      "A value is trying to be set on a copy of a slice from a DataFrame.\n",
      "Try using .loc[row_indexer,col_indexer] = value instead\n",
      "\n",
      "See the caveats in the documentation: https://pandas.pydata.org/pandas-docs/stable/user_guide/indexing.html#returning-a-view-versus-a-copy\n",
      "  socialmedia_age_db['Age'] = pd.cut(socialmedia_age_db['Age'], bins=bins, labels=labels, right=False)\n",
      "C:\\Users\\amhea\\AppData\\Local\\Temp\\ipykernel_22592\\3024525657.py:13: FutureWarning: The default of observed=False is deprecated and will be changed to True in a future version of pandas. Pass observed=False to retain current behavior or observed=True to adopt the future default and silence this warning.\n",
      "  emotion_counts = socialmedia_age_db.groupby(['Age', 'Dominant_Emotion']).size().unstack()\n"
     ]
    },
    {
     "data": {
      "image/png": "[encoded data removed]",
      "text/plain": [
       "<Figure size 800x700 with 1 Axes>"
      ]
     },
     "metadata": {},
     "output_type": "display_data"
    }
   ],
   "source": [
    "# Create new df to store information in\n",
    "age_db_columns = [\"Dominant_Emotion\", \"Age\"]\n",
    "socialmedia_age_db = socialmedia_db[age_db_columns]\n",
    "\n",
    "# Create bins and labels for categorial 5 year increments\n",
    "bins = range(0, socialmedia_age_db[\"Age\"].max()+6, 5)\n",
    "labels = [f'{i}-{i+5}' for i in bins[:-1]]\n",
    "\n",
    "# Use pandas cut to split up via the bins and labels\n",
    "socialmedia_age_db['Age'] = pd.cut(socialmedia_age_db['Age'], bins=bins, labels=labels, right=False)\n",
    "\n",
    "# Group by age groups and count the amount of entries, filtering out any age groups that are empty\n",
    "emotion_counts = socialmedia_age_db.groupby(['Age', 'Dominant_Emotion']).size().unstack()\n",
    "emotion_counts = emotion_counts.loc[(emotion_counts.sum(axis=1) > 0)]\n",
    "\n",
    "# Setting a colorblind-friendly palette\n",
    "color_palette = sns.set_palette('colorblind')\n",
    "\n",
    "# Display the count in a stacked bar chart\n",
    "ax = emotion_counts.plot(kind='bar', stacked=True, figsize=(8, 7), color=color_palette)\n",
    "plt.xlabel('Age Group')\n",
    "plt.ylabel('Number of Entries')\n",
    "plt.title('Number of Entries by Emotion in Each Age Group')\n",
    "plt.legend(title='Emotion')\n",
    "\n",
    "# Display the counts over each segment\n",
    "for age in emotion_counts.index:\n",
    "    for emotion in emotion_counts.columns:\n",
    "        count = emotion_counts.at[age, emotion] #Getting the amount per age group and emotion\n",
    "        if count > 0: #Check for any emotions that are empty\n",
    "            x = emotion_counts.index.get_loc(age)\n",
    "            y = emotion_counts.loc[age].cumsum().shift(1).fillna(0)[emotion] + count / 2\n",
    "            ax.text(x, y, str(int(count)), ha='center', va='center', color='white')\n",
    "\n",
    "# Save and display image\n",
    "plt.savefig('../img/Age_to_Emotion_Bar.png', bbox_inches='tight')\n",
    "plt.show()"
   ]
  },
  {
   "cell_type": "markdown",
   "metadata": {},
   "source": [
    "Correlation matrix of age, gender, daily usage, emotional status"
   ]
  },
  {
   "cell_type": "code",
   "execution_count": 105,
   "metadata": {},
   "outputs": [
    {
     "data": {
      "image/png": "[encoded data removed]",
      "text/plain": [
       "<Figure size 640x480 with 2 Axes>"
      ]
     },
     "metadata": {},
     "output_type": "display_data"
    }
   ],
   "source": [
    "# Set df to desired columns for corr\n",
    "corr_matrix1_columns = [\"Age\", \"Gender\", \"Daily_Usage_Time (minutes)\", \"Dominant_Emotion\"]\n",
    "corr_matrix1 = socialmedia_db[corr_matrix1_columns]\n",
    "\n",
    "# Change categorial variables into a workable format\n",
    "corr_matrix1 = pd.get_dummies(corr_matrix1, columns=[\"Gender\", \"Dominant_Emotion\"])\n",
    "corr_matrix1 = corr_matrix1.corr()\n",
    "\n",
    "# Define better labels \n",
    "custom_labels = [\"Age\", \"Daily Usage\", \"Female\", \"Male\", \"Non-Binary\", \"Anger\", \"Anxiety\", \"Boredom\", \"Happiness\", \"Neutral\", \"Sadness\"]\n",
    "\n",
    "# Create matrix, and mask the upper half of the chart\n",
    "mask = np.triu(corr_matrix1)\n",
    "sns.heatmap(corr_matrix1, annot=True, cmap='crest', mask=mask, annot_kws={\"size\": 7})\n",
    "\n",
    "# Ensure the number of labels matches the number of columns/rows in the correlation matrix\n",
    "if corr_matrix1.shape[0] == len(custom_labels):\n",
    "    plt.xticks(ticks=np.arange(len(custom_labels)) + 0.5, labels=custom_labels, rotation=45, ha='right')\n",
    "    plt.yticks(ticks=np.arange(len(custom_labels)) + 0.5, labels=custom_labels, rotation=0)\n",
    "else:\n",
    "    print(\"The number of custom labels does not match the number of columns/rows in the correlation matrix.\")\n",
    "    print(f\"Number provided: {len(custom_labels)}\")\n",
    "    print(f\"Length required: {corr_matrix1.shape[0]}\")\n",
    "\n",
    "# Save and display image\n",
    "plt.savefig('../img/Age_Gender_to_Emotion_Corr.png', bbox_inches='tight')\n",
    "plt.show()"
   ]
  },
  {
   "cell_type": "markdown",
   "metadata": {},
   "source": [
    "Correlation matrix of daily usage, posts, likes, messages, comment, emotional status"
   ]
  },
  {
   "cell_type": "code",
   "execution_count": 106,
   "metadata": {},
   "outputs": [
    {
     "data": {
      "image/png": "[encoded data removed]",
      "text/plain": [
       "<Figure size 640x480 with 2 Axes>"
      ]
     },
     "metadata": {},
     "output_type": "display_data"
    }
   ],
   "source": [
    "# Set df to desired columns for corr\n",
    "all_columns = ['Age', 'Gender', 'Platform', 'Daily_Usage_Time (minutes)',\n",
    "       'Posts_Per_Day', 'Likes_Received_Per_Day', 'Comments_Received_Per_Day',\n",
    "       'Messages_Sent_Per_Day', 'Dominant_Emotion']\n",
    "corr_matrix2_columns = [\"Daily_Usage_Time (minutes)\", \"Posts_Per_Day\", \"Likes_Received_Per_Day\", \"Messages_Sent_Per_Day\", \"Comments_Received_Per_Day\", \"Dominant_Emotion\"]\n",
    "corr_matrix2 = socialmedia_db[corr_matrix2_columns]\n",
    "\n",
    "# Define better labels \n",
    "custom_labels = [\"Daily Usage\", \"Posts\", \"Likes Received\", \"Messages\", \"Comments\", \"Anger\", \"Anxiety\", \"Boredom\", \"Happiness\", \"Neutral\", \"Sadness\"]\n",
    "\n",
    "# Change categorial variables into a workable format\n",
    "corr_matrix2 = pd.get_dummies(corr_matrix2, columns=[\"Dominant_Emotion\"])\n",
    "corr_matrix2 = corr_matrix2.corr()\n",
    "\n",
    "# Create matrix, and mask the upper half of the chart\n",
    "mask = np.triu(corr_matrix2)\n",
    "sns.heatmap(corr_matrix2, annot=True, cmap='crest', mask=mask, annot_kws={\"size\": 7});\n",
    "\n",
    "# Ensure the number of labels matches the number of columns/rows in the correlation matrix\n",
    "if corr_matrix2.shape[0] == len(custom_labels):\n",
    "    plt.xticks(ticks=np.arange(len(custom_labels)) + 0.5, labels=custom_labels, rotation=45, ha='right')\n",
    "    plt.yticks(ticks=np.arange(len(custom_labels)) + 0.5, labels=custom_labels, rotation=0)\n",
    "else:\n",
    "    print(\"The number of custom labels does not match the number of columns/rows in the correlation matrix.\")\n",
    "    print(f\"Number provided: {len(custom_labels)}\")\n",
    "    print(f\"Length required: {corr_matrix2.shape[0]}\")\n",
    "\n",
    "plt.savefig('../img/Use_to_Emotion_Corr.png', bbox_inches='tight')\n",
    "plt.show()"
   ]
  },
  {
   "cell_type": "markdown",
   "metadata": {},
   "source": [
    "Correlations of each platform, emotional status"
   ]
  },
  {
   "cell_type": "code",
   "execution_count": 143,
   "metadata": {},
   "outputs": [
    {
     "data": {
      "image/png": "[encoded data removed]",
      "text/plain": [
       "<Figure size 640x480 with 2 Axes>"
      ]
     },
     "metadata": {},
     "output_type": "display_data"
    }
   ],
   "source": [
    "corr_matrix3_columns = [\"Platform\", \"Dominant_Emotion\"]\n",
    "corr_matrix3 = socialmedia_db[corr_matrix3_columns]\n",
    "\n",
    "# Change categorial variables into a workable format\n",
    "corr_matrix3 = pd.get_dummies(corr_matrix3, columns=[\"Dominant_Emotion\", \"Platform\"])\n",
    "corr_matrix3 = corr_matrix3.corr()\n",
    "\n",
    "# Define better labels \n",
    "custom_labels = [\"Anger\", \"Anxiety\", \"Boredom\", \"Happiness\", \"Neutral\", \"Sadness\", \"Facebook\", \"Instagram\", \"LinkdIn\", \"Snapchat\", \"Telegram\", \"Twitter\", \"Whatsapp\"]\n",
    "\n",
    "# Create matrix, and mask the upper half of the chart\n",
    "mask = np.triu(corr_matrix3)\n",
    "sns.heatmap(corr_matrix3, annot=True, cmap='crest', mask=mask, annot_kws={\"size\": 6});\n",
    "\n",
    "# Ensure the number of labels matches the number of columns/rows in the correlation matrix\n",
    "if corr_matrix3.shape[0] == len(custom_labels):\n",
    "    plt.xticks(ticks=np.arange(len(custom_labels)) + 0.5, labels=custom_labels, rotation=45, ha='right')\n",
    "    plt.yticks(ticks=np.arange(len(custom_labels)) + 0.5, labels=custom_labels, rotation=0)\n",
    "else:\n",
    "    print(\"The number of custom labels does not match the number of columns/rows in the correlation matrix.\")\n",
    "    print(f\"Number provided: {len(custom_labels)}\")\n",
    "    print(f\"Length required: {corr_matrix3.shape[0]}\")\n",
    "\n",
    "plt.savefig('../img/Platform_to_Emotion_Corr.png', bbox_inches='tight')\n",
    "plt.show()"
   ]
  },
  {
   "cell_type": "markdown",
   "metadata": {},
   "source": [
    "#### Different ways to display the prior information"
   ]
  },
  {
   "cell_type": "markdown",
   "metadata": {},
   "source": []
  },
  {
   "cell_type": "code",
   "execution_count": null,
   "metadata": {},
   "outputs": [],
   "source": []
  },
  {
   "cell_type": "markdown",
   "metadata": {},
   "source": [
    "## Hypothesis Testing"
   ]
  },
  {
   "cell_type": "markdown",
   "metadata": {},
   "source": [
    "* What is the hypothesis you want to test?\n",
    "  * What is the null hypothesis you want to compare to?\n",
    "* Do you have two logical groups or categories in the data that you want to compare?\n",
    "* Would bootstrapping be useful to compare the two groups?\n",
    "  * Is the data very small and/or oddly distributed?\n",
    "  * Do you need to focus on how likely or unlikely it is for extreme values to\n",
    "    occur in the data?\n",
    "* How confident do you want to be in your conclusions?\n",
    "  * What p-value threshold should you be under?"
   ]
  },
  {
   "cell_type": "markdown",
   "metadata": {},
   "source": [
    "Hypothesis: Time spent on social media has a direct effect on emotion"
   ]
  },
  {
   "cell_type": "code",
   "execution_count": 108,
   "metadata": {},
   "outputs": [],
   "source": [
    "# Get my df set up with Dominant_Emotion and Daily_Usage_Time (minutes)\n",
    "hypothesis_columns = [\"Dominant_Emotion\", \"Daily_Usage_Time (minutes)\"]\n",
    "test_socialmedia_df = socialmedia_db[hypothesis_columns]"
   ]
  },
  {
   "cell_type": "markdown",
   "metadata": {},
   "source": [
    "Null Hypothesis: The variances of \"Daily_Usage_Time\" are equal across different \"Dominant_Emotion\" groups.\n",
    "\n",
    "Alternative Hypothesis: At least one group has a variance that is different from the others."
   ]
  },
  {
   "cell_type": "code",
   "execution_count": 111,
   "metadata": {},
   "outputs": [
    {
     "name": "stderr",
     "output_type": "stream",
     "text": [
      "C:\\Users\\amhea\\AppData\\Local\\Temp\\ipykernel_22592\\2365102266.py:8: SettingWithCopyWarning: \n",
      "A value is trying to be set on a copy of a slice from a DataFrame.\n",
      "Try using .loc[row_indexer,col_indexer] = value instead\n",
      "\n",
      "See the caveats in the documentation: https://pandas.pydata.org/pandas-docs/stable/user_guide/indexing.html#returning-a-view-versus-a-copy\n",
      "  test_socialmedia_df['Dominant_Emotion'] = test_socialmedia_df['Dominant_Emotion'].replace(emotion_dict)\n"
     ]
    }
   ],
   "source": [
    "# Give each emotion an arbitrary number value (ie. 1 = happy, 2 = sad, etc.)\n",
    "emotion_arr = ['Happiness', 'Anger', 'Neutral', 'Anxiety', 'Boredom', 'Sadness']\n",
    "emotion_dict = {}\n",
    "for i in range(0, len(emotion_arr)):\n",
    "    emotion_dict[emotion_arr[i]] = i+1\n",
    "\n",
    "# Replace emotions with dict values in df\n",
    "test_socialmedia_df['Dominant_Emotion'] = test_socialmedia_df['Dominant_Emotion'].replace(emotion_dict)"
   ]
  },
  {
   "cell_type": "markdown",
   "metadata": {},
   "source": [
    "All emotions to time spent Pearson correlation"
   ]
  },
  {
   "cell_type": "code",
   "execution_count": 112,
   "metadata": {},
   "outputs": [
    {
     "name": "stdout",
     "output_type": "stream",
     "text": [
      "Pearson correlation coefficient: -0.5396408800429509\n",
      "P-value: 1.1931272746862407e-76\n"
     ]
    }
   ],
   "source": [
    "# Calculate Pearson correlation coefficient and p-value\n",
    "correlation_coefficient, p_value = pearsonr(test_socialmedia_df['Dominant_Emotion'], test_socialmedia_df['Daily_Usage_Time (minutes)'])\n",
    "\n",
    "print(f\"Pearson correlation coefficient: {correlation_coefficient}\")\n",
    "print(f\"P-value: {p_value}\")\n",
    "\n",
    "# Interpretation: A correlation coefficient close to 1 or -1 indicates a strong relationship.\n",
    "# A p-value < 0.05 indicates the correlation is statistically significant."
   ]
  },
  {
   "cell_type": "markdown",
   "metadata": {},
   "source": [
    "Each emotion to time spent Pearson correlation"
   ]
  },
  {
   "cell_type": "code",
   "execution_count": 113,
   "metadata": {},
   "outputs": [
    {
     "name": "stdout",
     "output_type": "stream",
     "text": [
      "Emotion Value: Happiness\n",
      "Correlation coefficient: 0.7024025007688279\n",
      "P-value: 1.571471817667403e-149\n",
      "------------------------------\n",
      "Emotion Value: Anger\n",
      "Correlation coefficient: -0.05923116918731677\n",
      "P-value: 0.061157451336261916\n",
      "------------------------------\n",
      "Emotion Value: Neutral\n",
      "Correlation coefficient: -0.23434877202553017\n",
      "P-value: 6.084063775083197e-14\n",
      "------------------------------\n",
      "Emotion Value: Anxiety\n",
      "Correlation coefficient: -0.004216313536894743\n",
      "P-value: 0.8940625955767559\n",
      "------------------------------\n",
      "Emotion Value: Boredom\n",
      "Correlation coefficient: -0.3327183742368559\n",
      "P-value: 2.8281079416464923e-27\n",
      "------------------------------\n",
      "Emotion Value: Sadness\n",
      "Correlation coefficient: -0.13712020972567962\n",
      "P-value: 1.3535336135392227e-05\n",
      "------------------------------\n"
     ]
    }
   ],
   "source": [
    "# Loop through unique emotions (numerical values) and calculate correlation\n",
    "unique_emotions = test_socialmedia_df['Dominant_Emotion'].unique()\n",
    "\n",
    "for emotion_value in unique_emotions:\n",
    "    # Assign to temp df and replace any emotion values that are not the currently selected with 0\n",
    "    subset_df = test_socialmedia_df.copy()\n",
    "    subset_df.loc[subset_df['Dominant_Emotion'] != emotion_value, 'Dominant_Emotion'] = 0\n",
    "    subset_df.loc[subset_df['Dominant_Emotion'] == emotion_value, 'Dominant_Emotion'] = 1\n",
    "\n",
    "    # Get dict key name for display later\n",
    "    emotion = \"\"\n",
    "    for key in emotion_dict:\n",
    "        if emotion_dict[key] == emotion_value:\n",
    "            emotion = key\n",
    "    \n",
    "    # Check if there's enough data and variability\n",
    "    if subset_df.shape[0] > 1:\n",
    "        daily_usage_time = subset_df['Daily_Usage_Time (minutes)']\n",
    "        \n",
    "        # Make sure daily usage time is not all repeat or assumed values\n",
    "        if daily_usage_time.nunique() > 1:\n",
    "            corr, p_val = pearsonr(daily_usage_time, subset_df['Dominant_Emotion'])\n",
    "            print(f'Emotion Value: {emotion}')\n",
    "            print(f'Correlation coefficient: {corr}')\n",
    "            print(f'P-value: {p_val}')\n",
    "        else:\n",
    "            print(f'Emotion Value: {emotion} - Daily_Usage_Time has no variance (constant values).')\n",
    "    else:\n",
    "        print(f'Emotion Value: {emotion} - Not enough data points.')\n",
    "    print('-' * 30)"
   ]
  },
  {
   "cell_type": "markdown",
   "metadata": {},
   "source": [
    "T-Test for each emotion to time spent"
   ]
  },
  {
   "cell_type": "code",
   "execution_count": 148,
   "metadata": {},
   "outputs": [
    {
     "name": "stdout",
     "output_type": "stream",
     "text": [
      "Emotion: Happiness\n",
      "T-statistic: 30.975362701817613\n",
      "P-value: 5.129037878028241e-96\n",
      "------------------------------\n",
      "Emotion: Anger\n",
      "T-statistic: -3.5242634042544436\n",
      "P-value: 0.000465980235315997\n",
      "------------------------------\n",
      "Emotion: Neutral\n",
      "T-statistic: -10.34249776804165\n",
      "P-value: 5.834983440565121e-23\n",
      "------------------------------\n",
      "Emotion: Anxiety\n",
      "T-statistic: -0.1383342901601676\n",
      "P-value: 0.8900863394074395\n",
      "------------------------------\n",
      "Emotion: Boredom\n",
      "T-statistic: -22.073803193060304\n",
      "P-value: 4.855871375992328e-82\n",
      "------------------------------\n",
      "Emotion: Sadness\n",
      "T-statistic: -5.54365454323335\n",
      "P-value: 6.527112857189835e-08\n",
      "------------------------------\n"
     ]
    }
   ],
   "source": [
    "unique_emotions = test_socialmedia_df['Dominant_Emotion'].unique()\n",
    "\n",
    "for emotion_value in unique_emotions:\n",
    "    # Create a copy of the DataFrame\n",
    "    subset_df = test_socialmedia_df.copy()\n",
    "    \n",
    "    # Replace non-matching emotion values with 0, and matching with 1\n",
    "    subset_df.loc[subset_df['Dominant_Emotion'] != emotion_value, 'Dominant_Emotion'] = 0\n",
    "    subset_df.loc[subset_df['Dominant_Emotion'] == emotion_value, 'Dominant_Emotion'] = 1\n",
    "\n",
    "    # Get the corresponding emotion name\n",
    "    emotion = next((key for key in emotion_dict if emotion_dict[key] == emotion_value), \"Unknown\")\n",
    "    \n",
    "    # Split the data into two groups based on the 'Dominant_Emotion' value\n",
    "    group1 = subset_df[subset_df['Dominant_Emotion'] == 1]['Daily_Usage_Time (minutes)']\n",
    "    group2 = subset_df[subset_df['Dominant_Emotion'] == 0]['Daily_Usage_Time (minutes)']\n",
    "    \n",
    "    # Check if both groups have enough data and variability\n",
    "    if len(group1) > 1 and len(group2) > 1:\n",
    "        # Perform t-test\n",
    "        t_stat, p_val = ttest_ind(group1, group2, equal_var=False)  # Welch's t-test\n",
    "        \n",
    "        print(f'Emotion: {emotion}')\n",
    "        print(f'T-statistic: {t_stat}')\n",
    "        print(f'P-value: {p_val}')\n",
    "    else:\n",
    "        print(f'Emotion: {emotion} - Not enough data points in one or both groups.')\n",
    "    print('-' * 30)"
   ]
  },
  {
   "cell_type": "markdown",
   "metadata": {},
   "source": [
    "## Regression and Predictions"
   ]
  },
  {
   "cell_type": "markdown",
   "metadata": {},
   "source": [
    "### Model Building"
   ]
  },
  {
   "cell_type": "markdown",
   "metadata": {},
   "source": [
    "* Does the data meet the assumptions of linear or logistic regression models?\n",
    "  * For example\n",
    "    * Linearity\n",
    "    * Homoscedasticity"
   ]
  },
  {
   "cell_type": "code",
   "execution_count": 144,
   "metadata": {},
   "outputs": [],
   "source": [
    "# Code Here\n"
   ]
  },
  {
   "cell_type": "markdown",
   "metadata": {},
   "source": [
    "### Model Evaluation"
   ]
  },
  {
   "cell_type": "markdown",
   "metadata": {},
   "source": [
    "* How did the model perform?\n",
    "  * Did you use tools like those below to evaluate your model?\n",
    "    * R-square (R2)\n",
    "    * Confusion matrix\n",
    "    * Mean squared error (MSE)\n",
    "* Did you split your data into training and testing?\n",
    "* Does your model perform equally or much worse on your testing data?\n",
    "  * Could your model be overfit?\n",
    "* How will this model likely perform in the real world?\n",
    "* What are you coefficients?\n",
    "  * What do the coefficients tell us about which feature is most important?\n",
    "  * Can we trust the coefficients if the data isn't scaled?"
   ]
  },
  {
   "cell_type": "code",
   "execution_count": 145,
   "metadata": {},
   "outputs": [],
   "source": [
    "# Code Here"
   ]
  }
 ],
 "metadata": {
  "kernelspec": {
   "display_name": "gal",
   "language": "python",
   "name": "python3"
  },
  "language_info": {
   "codemirror_mode": {
    "name": "ipython",
    "version": 3
   },
   "file_extension": ".py",
   "mimetype": "text/x-python",
   "name": "python",
   "nbconvert_exporter": "python",
   "pygments_lexer": "ipython3",
   "version": "3.11.7"
  }
 },
 "nbformat": 4,
 "nbformat_minor": 2
}
